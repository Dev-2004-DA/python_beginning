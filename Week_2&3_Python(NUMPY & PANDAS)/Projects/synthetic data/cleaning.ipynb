{
 "cells": [
  {
   "cell_type": "markdown",
   "id": "0695b4e6",
   "metadata": {},
   "source": [
    "This dataset represents a customer profiling scenario for a retail or e-commerce company. Each row is a customer.\n",
    "\n",
    "Here's what each column means:\n",
    "Column\tReal-World Meaning\n",
    "ID\tUnique identifier for each customer (Customer ID 1 to 200)\n",
    "Age\tAge of the customer (used to segment young, middle-aged, senior customers)\n",
    "Income\tEstimated annual income of the customer (used for understanding spending power)\n",
    "Score\tA score from 0 to 100 indicating customer engagement or loyalty — e.g., how actively they use the app, give feedback, or interact with offers\n",
    "Purchases\tNumber of purchases made by the customer in the last 6 months or 1 year"
   ]
  },
  {
   "cell_type": "code",
   "execution_count": 19,
   "id": "0958aefa",
   "metadata": {},
   "outputs": [],
   "source": [
    "import pandas as pd, numpy as np, matplotlib.pyplot as plt ,seaborn as sns"
   ]
  },
  {
   "cell_type": "markdown",
   "id": "011e6c33",
   "metadata": {},
   "source": [
    "CLEANING DATa"
   ]
  },
  {
   "cell_type": "code",
   "execution_count": 23,
   "id": "9c6d719b",
   "metadata": {},
   "outputs": [
    {
     "name": "stdout",
     "output_type": "stream",
     "text": [
      "   ID  Age    Income  Score  Purchases\n",
      "0   1   56  37972.58  75.24          4\n",
      "1   2   46  70760.24  79.16          4\n",
      "2   3   32  71078.08  78.96          5\n",
      "3   4   25  70884.89   9.12          4\n",
      "4   5   38  36790.39  49.44          1 \n",
      "\n",
      "<class 'pandas.core.frame.DataFrame'>\n",
      "RangeIndex: 200 entries, 0 to 199\n",
      "Data columns (total 5 columns):\n",
      " #   Column     Non-Null Count  Dtype  \n",
      "---  ------     --------------  -----  \n",
      " 0   ID         200 non-null    int64  \n",
      " 1   Age        200 non-null    int64  \n",
      " 2   Income     199 non-null    float64\n",
      " 3   Score      199 non-null    float64\n",
      " 4   Purchases  200 non-null    int64  \n",
      "dtypes: float64(2), int64(3)\n",
      "memory usage: 7.9 KB\n",
      "None\n"
     ]
    }
   ],
   "source": [
    "x=pd.read_csv('numeric_data_cleaning.csv')\n",
    "\n",
    "df=x.copy()\n",
    "print(df.head(),'\\n')      # review 1st 5 rows\n",
    "print(df.info())      # info about data -- it shows 2 missing values"
   ]
  },
  {
   "cell_type": "markdown",
   "id": "785ec334",
   "metadata": {},
   "source": [
    "## Missing Data"
   ]
  },
  {
   "cell_type": "code",
   "execution_count": null,
   "metadata": {},
   "outputs": [
    {
     "name": "stdout",
     "output_type": "stream",
     "text": [
      "(array([], dtype=int64),)\n",
      "<class 'pandas.core.frame.DataFrame'>\n",
      "RangeIndex: 200 entries, 0 to 199\n",
      "Data columns (total 5 columns):\n",
      " #   Column     Non-Null Count  Dtype  \n",
      "---  ------     --------------  -----  \n",
      " 0   ID         200 non-null    int64  \n",
      " 1   Age        200 non-null    int64  \n",
      " 2   Income     200 non-null    float64\n",
      " 3   Score      200 non-null    float64\n",
      " 4   Purchases  200 non-null    int64  \n",
      "dtypes: float64(2), int64(3)\n",
      "memory usage: 7.9 KB\n",
      "None\n"
     ]
    },
    {
     "name": "stderr",
     "output_type": "stream",
     "text": [
      "C:\\Users\\91972\\AppData\\Local\\Temp\\ipykernel_8712\\747783724.py:2: FutureWarning: A value is trying to be set on a copy of a DataFrame or Series through chained assignment using an inplace method.\n",
      "The behavior will change in pandas 3.0. This inplace method will never work because the intermediate object on which we are setting values always behaves as a copy.\n",
      "\n",
      "For example, when doing 'df[col].method(value, inplace=True)', try using 'df.method({col: value}, inplace=True)' or df[col] = df[col].method(value) instead, to perform the operation inplace on the original object.\n",
      "\n",
      "\n",
      "  df['Income'].fillna(df['Income'].mean().round(2),inplace=True)              # income- filled\n",
      "C:\\Users\\91972\\AppData\\Local\\Temp\\ipykernel_8712\\747783724.py:7: FutureWarning: A value is trying to be set on a copy of a DataFrame or Series through chained assignment using an inplace method.\n",
      "The behavior will change in pandas 3.0. This inplace method will never work because the intermediate object on which we are setting values always behaves as a copy.\n",
      "\n",
      "For example, when doing 'df[col].method(value, inplace=True)', try using 'df.method({col: value}, inplace=True)' or df[col] = df[col].method(value) instead, to perform the operation inplace on the original object.\n",
      "\n",
      "\n",
      "  df['Score'].fillna(df['Score'].mean().round(2),inplace=True)                # Score- filled\n"
     ]
    }
   ],
   "source": [
    "# print(df[['Income','Score']].to_string())    # using for observation\n",
    "df['Income'].fillna(df['Income'].mean().round(2),inplace=True)              # income- filled\n",
    "\n",
    "# before filling score first check outliars\n",
    "print(np.where((df['Score']>100) | (df['Score']<0)))                        # row 75 is outliar\n",
    "df.loc[75,'Score']=100                                                      # outlier change\n",
    "df['Score'].fillna(df['Score'].mean().round(2),inplace=True)                # Score- filled\n"
   ]
  },
  {
   "cell_type": "markdown",
   "id": "529563e4",
   "metadata": {},
   "source": [
    "\n",
    "## WRONG FORMAT"
   ]
  },
  {
   "cell_type": "code",
   "execution_count": 38,
   "id": "e88e6e43",
   "metadata": {},
   "outputs": [
    {
     "name": "stdout",
     "output_type": "stream",
     "text": [
      "<class 'pandas.core.frame.DataFrame'>\n",
      "RangeIndex: 200 entries, 0 to 199\n",
      "Data columns (total 5 columns):\n",
      " #   Column     Non-Null Count  Dtype  \n",
      "---  ------     --------------  -----  \n",
      " 0   ID         200 non-null    int64  \n",
      " 1   Age        200 non-null    int64  \n",
      " 2   Income     200 non-null    float64\n",
      " 3   Score      200 non-null    float64\n",
      " 4   Purchases  200 non-null    int64  \n",
      "dtypes: float64(2), int64(3)\n",
      "memory usage: 7.9 KB\n",
      "None\n"
     ]
    }
   ],
   "source": [
    "print(df.info())        ## no object =no wrong format"
   ]
  },
  {
   "cell_type": "markdown",
   "id": "bf004375",
   "metadata": {},
   "source": [
    "## WRONG DATA"
   ]
  },
  {
   "cell_type": "code",
   "execution_count": 53,
   "id": "0df02afb",
   "metadata": {},
   "outputs": [
    {
     "name": "stdout",
     "output_type": "stream",
     "text": [
      "   ID  Age    Income  Score  Purchases\n",
      "0   1   56  37972.58  75.24          4\n",
      "1   2   46  70760.24  79.16          4\n",
      "2   3   32  71078.08  78.96          5\n",
      "3   4   25  70884.89   9.12          4\n",
      "4   5   38  36790.39  49.44          1\n",
      "(array([], dtype=int64), array([], dtype=int64))\n",
      "(array([150], dtype=int64),)\n",
      "1000\n"
     ]
    }
   ],
   "source": [
    "print(df.head())\n",
    "\n",
    "# check negative values\n",
    "print(np.where(df<0))    # means row 100 ,colm Age  , is negative replacing value\n",
    "\n",
    "\n",
    "df.loc[100,'Age']=int(df['Age'].mean())     # now no negative values\n",
    "\n",
    "#print(df.to_string())                      # on observing data there we can say that avg purchase is 10\n",
    "\n",
    "print(np.where(df['Purchases']>20))         # cheking row 150\n",
    "print(df.loc[150,'Purchases'])      #1000\n",
    "df.loc[150,'Purchases']=10\n"
   ]
  },
  {
   "cell_type": "markdown",
   "id": "2827203e",
   "metadata": {},
   "source": [
    "## FIXING DATATYPES AND OTHERS\n",
    "* like scores must be int\n",
    "* chnage income column name\n",
    "* conv income to int"
   ]
  },
  {
   "cell_type": "code",
   "execution_count": 74,
   "id": "d075e2b8",
   "metadata": {},
   "outputs": [
    {
     "name": "stdout",
     "output_type": "stream",
     "text": [
      "      ID  Age  Income in Rs.  Score  Purchases\n",
      "0      1   56          37972     75          4\n",
      "1      2   46          70760     79          4\n",
      "2      3   32          71078     78          5\n",
      "3      4   25          70884      9          4\n",
      "4      5   38          36790     49          1\n",
      "5      6   56          52692      5          4\n",
      "6      7   36          42598     54          6\n",
      "7      8   40          63847     44          3\n",
      "8      9   28          75599     88          6\n",
      "9     10   28          63103     35          2\n",
      "10    11   41          50137     11          4\n",
      "11    12   53          44516     14          7\n",
      "12    13   57          59736     50          6\n",
      "13    14   41          31656     61          5\n",
      "14    15   20          58045     10          4\n",
      "15    16   39          36279      8          3\n",
      "16    17   19          59308     70          3\n",
      "17    18   41          47585      7          7\n",
      "18    19   47          44176     82          7\n",
      "19    20   55          36717     70          6\n",
      "20    21   19          44648      8          6\n",
      "21    22   38          58341      8          7\n",
      "22    23   50          65657     98          8\n",
      "23    24   29          57896     37          6\n",
      "24    25   39          70458     37          3\n",
      "25    26   42          88087     81          7\n",
      "26    27   44          45132     94          5\n",
      "27    28   59          46912     98          5\n",
      "28    29   45          28399     75          7\n",
      "29    30   33          67860     37          4\n",
      "30    31   32          69490      8          9\n",
      "31    32   20          36992     77          4\n",
      "32    33   54          59264     55          5\n",
      "33    34   24          68256     42          2\n",
      "34    35   38          53394     90          6\n",
      "35    36   26          62711     11          3\n",
      "36    37   56          52622     49          6\n",
      "37    38   35          31747      1          2\n",
      "38    39   21          65740     46          3\n",
      "39    40   42          69876      5          5\n",
      "40    41   31          61017     11          3\n",
      "41    42   26          35682     11          4\n",
      "42    43   43          38732     64          5\n",
      "43    44   19          33043     74          6\n",
      "44    45   37          61549     58          3\n",
      "45    46   45          69025     96          3\n",
      "46    47   24          56367     37          4\n",
      "47    48   25          64108     28          5\n",
      "48    49   52          36985     86          4\n",
      "49    50   31          52187     22          2\n",
      "50    51   34          29451     96          6\n",
      "51    52   53          38423      1          6\n",
      "52    53   57          63180     96          8\n",
      "53    54   21          46406      4          1\n",
      "54    55   19          68140     89          6\n",
      "55    56   23          58069     52          2\n",
      "56    57   59          91016     99          5\n",
      "57    58   21          51406      7          2\n",
      "58    59   46          28903     55          6\n",
      "59    60   35          49482     96          4\n",
      "60    61   43          35554     52          3\n",
      "61    62   51          64657     62          5\n",
      "62    63   27          50629     69          6\n",
      "63    64   53          47940     45          3\n",
      "64    65   31          48138     62          4\n",
      "65    66   48          61105     58          8\n",
      "66    67   32          43213     90          4\n",
      "67    68   25          61655      4         10\n",
      "68    69   31          65683     28          4\n",
      "69    70   40          44867     95          5\n",
      "70    71   57          36109     89         10\n",
      "71    72   38          42305     45          3\n",
      "72    73   33          60651     62          4\n",
      "73    74   35          51387     27          7\n",
      "74    75   41          59451     18          5\n",
      "75    76   43          76444    100         10\n",
      "76    77   42          53464     35          4\n",
      "77    78   58          37865     58          2\n",
      "78    79   46          65861      7          3\n",
      "79    80   32          50770     97          5\n",
      "80    81   18          63086     98          8\n",
      "81    82   42          65992     69          4\n",
      "82    83   24          35614     53          3\n",
      "83    84   26          70730     30          8\n",
      "84    85   41          63576     81          6\n",
      "85    86   18          40941     68          8\n",
      "86    87   25          54566     16          3\n",
      "87    88   41          53858     91          3\n",
      "88    89   28          50358     82          5\n",
      "89    90   34          63078     94         11\n",
      "90    91   25          71560     72          7\n",
      "91    92   52          50109     61          4\n",
      "92    93   52          69963     41          3\n",
      "93    94   50          64823     93          8\n",
      "94    95   22          53484     86          8\n",
      "95    96   59          52642      4          3\n",
      "96    97   56          32711      2          3\n",
      "97    98   58          27488     37          6\n",
      "98    99   45          52475     81          2\n",
      "99   100   24          37161     98          7\n",
      "100  101   38          49405     15          5\n",
      "101  102   25          41980     59          5\n",
      "102  103   29          23172     38          6\n",
      "103  104   51          55359     96          1\n",
      "104  105   50          43782     84         10\n",
      "105  106   40          51202     83          2\n",
      "106  107   41          36603     46          5\n",
      "107  108   54          44977     41          4\n",
      "108  109   52          73405     27          5\n",
      "109  110   57          51928      5          4\n",
      "110  111   39          58243     86          5\n",
      "111  112   44          30936     81          6\n",
      "112  113   52          85835     99          1\n",
      "113  114   18          77651     99          3\n",
      "114  115   52          70451     55          2\n",
      "115  116   54          62431     76          5\n",
      "116  117   31          50227     94          4\n",
      "117  118   20          56631     84          7\n",
      "118  119   18          65720     24          7\n",
      "119  120   22          40571     45          2\n",
      "120  121   43          43332     12          6\n",
      "121  122   31          24963     95          7\n",
      "122  123   56          38422     60          2\n",
      "123  124   44          74919     22          7\n",
      "124  125   26          44986     67          5\n",
      "125  126   32          45232     61          7\n",
      "126  127   32          54766     35          6\n",
      "127  128   43          25816     11          5\n",
      "128  129   59          64180     67          6\n",
      "129  130   30          68996     52          5\n",
      "130  131   49          55659     77          4\n",
      "131  132   56          74770     52          7\n",
      "132  133   49          30097     85          1\n",
      "133  134   21          77655     55          8\n",
      "134  135   47          39038     56          4\n",
      "135  136   54          30801     87          5\n",
      "136  137   40          46439     40          3\n",
      "137  138   56          78080     13          7\n",
      "138  139   32          49708      2          2\n",
      "139  140   46          36011     75          5\n",
      "140  141   53          30575     62         10\n",
      "141  142   30          48423     70          7\n",
      "142  143   49          20075     21          7\n",
      "143  144   24          30497     13         10\n",
      "144  145   39          73146      1          1\n",
      "145  146   45          69848     35          5\n",
      "146  147   19          48073     58          3\n",
      "147  148   59          43015     39          8\n",
      "148  149   23          50877     43          7\n",
      "149  150   45          85219     90          3\n",
      "150  151   45          56074     34         10\n",
      "151  152   37          63646     51          5\n",
      "152  153   47          46963     78          3\n",
      "153  154   28          50913     39          6\n",
      "154  155   45          59707     62          3\n",
      "155  156   42          51891     86          4\n",
      "156  157   56          21539     94          5\n",
      "157  158   50          69208     14          8\n",
      "158  159   18          40772     92          7\n",
      "159  160   44          81669     49          5\n",
      "160  161   30          60302     25          4\n",
      "161  162   58          51064     45          6\n",
      "162  163   20          56589     98          8\n",
      "163  164   56          48372     49          4\n",
      "164  165   23          42703     32          3\n",
      "165  166   25          53113     63          2\n",
      "166  167   44          63274     24          3\n",
      "167  168   26          43032      7          9\n",
      "168  169   54          40666     12          5\n",
      "169  170   50          44667     12          4\n",
      "170  171   59          64280     15          7\n",
      "171  172   41          71788     13          8\n",
      "172  173   32          55430     64          4\n",
      "173  174   49          58719     18          4\n",
      "174  175   49          40554     34          8\n",
      "175  176   41          63151     89          5\n",
      "176  177   58          58276     47          5\n",
      "177  178   29          39348     66          6\n",
      "178  179   56          23184     17          7\n",
      "179  180   19          31691     19          2\n",
      "180  181   20          39961      4          1\n",
      "181  182   54          67429     16          7\n",
      "182  183   34          73292     27          5\n",
      "183  184   19          43407     17          4\n",
      "184  185   19          43881      8          4\n",
      "185  186   45          53924     12          3\n",
      "186  187   40          50182     46          8\n",
      "187  188   54          63964     20          7\n",
      "188  189   49          42152     36          1\n",
      "189  190   50          64237     50          2\n",
      "190  191   18          46411     69          4\n",
      "191  192   36          62809      3          6\n",
      "192  193   19          45934     79          4\n",
      "193  194   43          40803     62          6\n",
      "194  195   49          78684      8          8\n",
      "195  196   23          65978     87          7\n",
      "196  197   49          23119     92          5\n",
      "197  198   21          43298      6          2\n",
      "198  199   28          68073     27          1\n",
      "199  200   34          32050     80          7\n"
     ]
    }
   ],
   "source": [
    "print(df.to_string())\n",
    "df['Score']=df['Score'].astype(int)\n",
    "df=df.rename(columns={'Income':'Income in Rs.'})      # columnn name changed\n",
    "df['Income in Rs.']=df['Income in Rs.'].astype(int)\n"
   ]
  },
  {
   "cell_type": "code",
   "execution_count": 75,
   "id": "0fe6f8ed",
   "metadata": {},
   "outputs": [],
   "source": [
    "##  file cleaned\n",
    "df.to_csv('cleaned_file.csv')"
   ]
  }
 ],
 "metadata": {
  "kernelspec": {
   "display_name": "base",
   "language": "python",
   "name": "python3"
  },
  "language_info": {
   "codemirror_mode": {
    "name": "ipython",
    "version": 3
   },
   "file_extension": ".py",
   "mimetype": "text/x-python",
   "name": "python",
   "nbconvert_exporter": "python",
   "pygments_lexer": "ipython3",
   "version": "3.12.7"
  }
 },
 "nbformat": 4,
 "nbformat_minor": 5
}
