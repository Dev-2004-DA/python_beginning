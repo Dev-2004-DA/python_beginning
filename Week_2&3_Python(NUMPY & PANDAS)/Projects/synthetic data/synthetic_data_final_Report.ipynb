{
 "cells": [
  {
   "cell_type": "markdown",
   "id": "a68f1bf8",
   "metadata": {},
   "source": [
    "## **SYNTHETIC CUSTOMER PROFILING DATA**\n",
    "### This report analyzes the customer profiling scenario of  retail company for e.g. what age os customers has highest score , is there any relationship betwen customer age and their purchases ? etc.\n"
   ]
  },
  {
   "cell_type": "markdown",
   "id": "3ccbe179",
   "metadata": {},
   "source": [
    "## **DATASET OVERVIEW**\n",
    "- **ROWS**:     200\n",
    "- **Columns**:  5\n",
    "- **Columns Names**: ID, Age, Income in Rs., Score,         Purchases\n",
    "  - `Id`=Unique identifier for each customers\n",
    "  - `Age`= age of customers\n",
    "  - `Income in Rs.`=estimated annual income of each customers\n",
    "  - `Score`=a score from 0 t 100 indicating customer's layalty towards company\n",
    "  - `Purchases`=number of purchases by each customers in last 6 months or 1 year"
   ]
  },
  {
   "cell_type": "markdown",
   "id": "d7314d0f",
   "metadata": {},
   "source": [
    "## **DATA CLEANING SUMARRY**\n",
    "- Filled 2 empty cells from column- 'Income', 'Score'\n",
    "- Correct an outliar from 'Score' column,code used-\n",
    "  - `print(np.where((df['Score']>100) | (df['Score']<0)))`                       \n",
    "  - `df.loc[75,'Score']=100`                                                     \n",
    "  - `df['Score'].fillna(df['Score'].mean().round(2),inplace=True)`\n",
    "- Converted negative values of 'Age' into positive value\n",
    "- Fixed data types to int"
   ]
  },
  {
   "cell_type": "markdown",
   "id": "a5489cbf",
   "metadata": {},
   "source": [
    "## **EXPLORATORY DATA ANALYSIS**"
   ]
  },
  {
   "cell_type": "markdown",
   "id": "7929163f",
   "metadata": {},
   "source": [
    " - AVG age of customers are 39,while the minimum age is 18 and maximum age is 59\n",
    " - AVG annual income of customers are Rs. 52691.97, where around half of the total customers have income around Rs.42266.75\n",
    " - AVG scores of customers are 50 , with a max score of 100 and minimum of 1\n",
    " - AVG purchases made in 6 months or 1 year by each customer is around 5 units"
   ]
  },
  {
   "cell_type": "code",
   "execution_count": null,
   "id": "db1aca7e",
   "metadata": {},
   "outputs": [],
   "source": [
    "import pandas as pd, numpy as np, matplotlib.pyplot as plt ,seaborn as sns\n",
    "df=pd.read_csv('cleaned_file.csv')\n",
    "df.drop('Unnamed: 0',axis=1,inplace=True)\n",
    "print(df.describe().round(2))"
   ]
  },
  {
   "cell_type": "markdown",
   "id": "bef8d9e6",
   "metadata": {},
   "source": [
    "- There is no correleation between any of the variables"
   ]
  },
  {
   "cell_type": "code",
   "execution_count": null,
   "id": "3e502f25",
   "metadata": {},
   "outputs": [],
   "source": [
    "print(df.corr().round())"
   ]
  },
  {
   "cell_type": "markdown",
   "id": "1e20f58b",
   "metadata": {},
   "source": [
    "- Group wise stats\n",
    "  - grouping by 'Age' and calcluated mean and maximum value of variables 'Income in Rs.','Score'\n",
    "  - grouping by 'Score' and calculated minimum and maximum value of variables 'Purchases'"
   ]
  },
  {
   "cell_type": "code",
   "execution_count": null,
   "id": "46015ff0",
   "metadata": {},
   "outputs": [],
   "source": [
    "group_1=df.groupby('Age')[['Income in Rs.','Score']].agg(['mean','max']).round(2)\n",
    "print(group_1)\n",
    "group_2=df.groupby('Score')['Purchases'].agg(['max','min'])\n",
    "print(\"\\n\\n\",group_2)\n"
   ]
  },
  {
   "cell_type": "markdown",
   "id": "2a73310f",
   "metadata": {},
   "source": [
    "## **DATA VISUALIZATION**\n",
    "- *Age vs INCOME* (scatter)\n",
    "- *AGE vs Score*  (scatter)\n",
    "- *Score vs Purchase*  (scatter)\n",
    "- *Age Distribution*   (frequency distribution)\n",
    "- *Age vs purchase*  (scatter)\n"
   ]
  },
  {
   "cell_type": "code",
   "execution_count": null,
   "id": "305a09cc",
   "metadata": {},
   "outputs": [],
   "source": [
    "print('Age vs Income in Rs.')\n",
    "x=df.sort_values(by='Age')                                      # sorting by age in a variabe to draw scatter\n",
    "x.plot(kind='scatter',x='Age',y='Income in Rs.' , xlabel= 'AGE',ylabel='INCOME IN RS.')\n",
    "plt.title('Age vs Income in Rs.')\n",
    "plt.show()\n",
    "\n",
    "\n",
    "print('Age vs Score')\n",
    "x.plot(kind='scatter',x='Age',y='Score' , xlabel= 'AGE',ylabel='SCORE')\n",
    "plt.title('Age vs Score')\n",
    "\n",
    "plt.show()\n",
    "\n",
    "print('Score vs Purchases')\n",
    "y=df.sort_values(by='Score')                                    # sorting by Score in a variabe to draw scatter\n",
    "y.plot(kind='scatter',x='Purchases',y='Score' , xlabel= 'PURCHASES',ylabel='SCORE')\n",
    "plt.title('Score vs Purchases')\n",
    "plt.show()\n",
    "\n",
    "print('Age vs Purchases')\n",
    "x.plot(kind='scatter',x='Age',y='Purchases' , xlabel= 'AGE',ylabel='Purchases')\n",
    "plt.title('Age vs Purchases')\n",
    "plt.show()\n",
    "\n",
    "print('Age Distribution')\n",
    "df['Age'].plot(kind='kde',xlabel= 'AGE',ylabel='FREQUENCY')\n",
    "plt.title('Age Distribution')\n",
    "plt.show()\n"
   ]
  },
  {
   "cell_type": "markdown",
   "id": "db00f48c",
   "metadata": {},
   "source": [
    "## **KEY INSIGHTS**\n",
    "- The company has over half of his customers of age around 40\n",
    "- The wealthiest customer has annual income of Rs. 91016 , with an avg income of their customers Rs. 52691.97\n",
    "-  On an average customers scored 50 in company's customer loyalty list\n",
    "- In a year or in 6 months , the maximum sale has gone by a single customer is 11 , while avg sales by all customers is approx 5, with a minimum of 1 unit sold to a customer \n",
    "- From the Scatter Graphs and Correlation formula we found tha there is no association between any variables"
   ]
  }
 ],
 "metadata": {
  "kernelspec": {
   "display_name": "base",
   "language": "python",
   "name": "python3"
  },
  "language_info": {
   "codemirror_mode": {
    "name": "ipython",
    "version": 3
   },
   "file_extension": ".py",
   "mimetype": "text/x-python",
   "name": "python",
   "nbconvert_exporter": "python",
   "pygments_lexer": "ipython3",
   "version": "3.12.7"
  }
 },
 "nbformat": 4,
 "nbformat_minor": 5
}
