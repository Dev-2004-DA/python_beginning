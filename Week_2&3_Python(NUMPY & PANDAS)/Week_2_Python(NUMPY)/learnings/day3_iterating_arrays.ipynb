{
 "cells": [
  {
   "cell_type": "code",
   "execution_count": null,
   "id": "eae3f3f0",
   "metadata": {},
   "outputs": [],
   "source": [
    "### iterations of arrays \n",
    "\n",
    "import numpy as np \n",
    "x=np.array([[[1,2,3],\n",
    "             [4,5,6]],\n",
    "             [[7,8,9],\n",
    "              [10,11,12]]])\n",
    "\n",
    "## method 1 for loops\n",
    "# for i in x:\n",
    "#     for j in i:\n",
    "#         print(j)\n",
    "#         for k in j:\n",
    "#             print(k)\n",
    "\n",
    "## method 2 .nditer()\n",
    "\n",
    "for i in np.nditer(x):\n",
    "    print(i)\n",
    "\n",
    "# iteration with different step sizes\n",
    "\n",
    "## print 7 9 10 12\n",
    "for i in np.nditer(x[1,:,::2]):\n",
    "    print(i)\n",
    "## print 1,3,5,7,9,11,13,15\n",
    "x=np.array([[[1,2,3,4],\n",
    "             [5,6,7,8]],\n",
    "             [[9,10,11,12],\n",
    "              [13,1,15,16]]])\n",
    "for i in np.nditer(x[:,:,::2]):\n",
    "    print(i)        \n",
    "\n",
    "#print 5,7,13 ,15\n",
    "for i in np.nditer(x[:,1,::2]):\n",
    "    print(i)           "
   ]
  },
  {
   "cell_type": "code",
   "execution_count": 15,
   "id": "2efd0575",
   "metadata": {},
   "outputs": [
    {
     "name": "stdout",
     "output_type": "stream",
     "text": [
      "1 (0, 0, 0)\n",
      "2 (0, 0, 1)\n",
      "3 (0, 0, 2)\n",
      "4 (0, 1, 0)\n",
      "5 (0, 1, 1)\n",
      "6 (0, 1, 2)\n",
      "9 (1, 0, 0)\n",
      "0 (1, 0, 1)\n",
      "11 (1, 0, 2)\n",
      "12 (1, 1, 0)\n",
      "13 (1, 1, 1)\n",
      "14 (1, 1, 2)\n"
     ]
    }
   ],
   "source": [
    "## ndenumerate  \n",
    "x=np.array([[[1,2,3],[4,5,6]],[[9,0,11],[12,13,14]]])\n",
    "for idx,i in np.ndenumerate(x):\n",
    "    print(i,idx)"
   ]
  }
 ],
 "metadata": {
  "kernelspec": {
   "display_name": "base",
   "language": "python",
   "name": "python3"
  },
  "language_info": {
   "codemirror_mode": {
    "name": "ipython",
    "version": 3
   },
   "file_extension": ".py",
   "mimetype": "text/x-python",
   "name": "python",
   "nbconvert_exporter": "python",
   "pygments_lexer": "ipython3",
   "version": "3.12.7"
  }
 },
 "nbformat": 4,
 "nbformat_minor": 5
}
