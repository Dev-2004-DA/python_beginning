{
 "cells": [
  {
   "cell_type": "code",
   "execution_count": null,
   "id": "0d728a6a",
   "metadata": {},
   "outputs": [
    {
     "name": "stdout",
     "output_type": "stream",
     "text": [
      "float64\n",
      "[[ True  True]\n",
      " [ True  True]]\n",
      "bool\n"
     ]
    }
   ],
   "source": [
    "### numpy data types\n",
    "## checking the data types of array\n",
    "import numpy as np \n",
    "\n",
    "# float\n",
    "x=np.array([[1.0,3.3],[6.8,7.9]])\n",
    "print(x.dtype)\n",
    "\n",
    "# integer\n",
    "y=np.array([[1,3],[6,7]])\n",
    "print(y)\n",
    "print(y.dtype)"
   ]
  },
  {
   "cell_type": "code",
   "execution_count": null,
   "id": "02424fd1",
   "metadata": {},
   "outputs": [],
   "source": [
    "#DEFINING data types of existing array\n",
    "import numpy as np\n",
    "x=np.array([1,2,3],dtype=\"str\")    # defining data type at the time of creating\n",
    "y=np.array([\"0\",\"1\",'-1'])         # creating a array\n",
    "Y=y.astype('bool')     # converting data type of a existing array ie y\n",
    "print(x ,x.dtype)\n",
    "print(Y ,Y.dtype)\n",
    "print(len(np.sctypeDict.keys()))    # # Shows all dtype names"
   ]
  },
  {
   "cell_type": "code",
   "execution_count": null,
   "id": "dff37b8d",
   "metadata": {},
   "outputs": [
    {
     "name": "stdout",
     "output_type": "stream",
     "text": [
      "[12  2  3  4]\n"
     ]
    }
   ],
   "source": [
    "## Copy and view\n",
    "import numpy as np\n",
    "x=np.array([1,2,3,4])\n",
    "c=x.copy()   ##in copy , if we change data value in c in does noot affect x\n",
    "v=x.view()   ## in view. if we change data value in v it affects x\n",
    "c[0]=12\n",
    "v[0]=12\n",
    "print(x)"
   ]
  },
  {
   "cell_type": "code",
   "execution_count": null,
   "id": "52522ca2",
   "metadata": {},
   "outputs": [],
   "source": [
    "### Numpy Array Shape\n",
    "import numpy as np \n",
    "x=np.array([1,2,3])\n",
    "y=np.array([[1,2,3],\n",
    "            [4,5,6]])\n",
    "z=np.array([[1,2,3],\n",
    "            [4,5,6]],ndmin=5)\n",
    "print(z)\n",
    "print(x.shape)\n",
    "print(y.shape)\n",
    "print(z.shape)\n",
    "\n"
   ]
  },
  {
   "cell_type": "code",
   "execution_count": null,
   "id": "de45d808",
   "metadata": {},
   "outputs": [
    {
     "name": "stdout",
     "output_type": "stream",
     "text": [
      "[[1 2]\n",
      " [3 4]\n",
      " [5 6]]\n",
      "[[1 2 3]\n",
      " [4 5 6]]\n",
      "[ 1  2  3  4  5  6  7  8  9 10 11 12]\n"
     ]
    }
   ],
   "source": [
    "#### reshaping\n",
    "import numpy as np \n",
    "x=np.array([1,2,3,4,5,6])\n",
    "y=x.reshape((3,2))   ## reshaping into a 2d aray \n",
    "print(y)\n",
    "print(x.reshape(-1,3))\n",
    "z=np.array([[[1,2,3],\n",
    "             [4,5,6]],\n",
    "             [[7,8,9],\n",
    "             [10,11,12]]])\n",
    "print(z.reshape(-1))       # flattening an array into 1d array "
   ]
  },
  {
   "cell_type": "code",
   "execution_count": null,
   "id": "e9b8c6a2",
   "metadata": {},
   "outputs": [],
   "source": []
  }
 ],
 "metadata": {
  "kernelspec": {
   "display_name": "base",
   "language": "python",
   "name": "python3"
  },
  "language_info": {
   "codemirror_mode": {
    "name": "ipython",
    "version": 3
   },
   "file_extension": ".py",
   "mimetype": "text/x-python",
   "name": "python",
   "nbconvert_exporter": "python",
   "pygments_lexer": "ipython3",
   "version": "3.12.7"
  }
 },
 "nbformat": 4,
 "nbformat_minor": 5
}
