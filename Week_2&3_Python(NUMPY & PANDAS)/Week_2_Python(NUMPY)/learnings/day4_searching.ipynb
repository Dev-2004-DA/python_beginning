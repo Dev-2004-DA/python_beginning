{
 "cells": [
  {
   "cell_type": "code",
   "execution_count": 4,
   "id": "825c3652",
   "metadata": {},
   "outputs": [
    {
     "name": "stdout",
     "output_type": "stream",
     "text": [
      "(array([0, 2, 4, 6, 8], dtype=int64),)\n",
      "(array([1], dtype=int64),)\n",
      "(array([0], dtype=int64), array([1], dtype=int64))\n"
     ]
    }
   ],
   "source": [
    "import numpy as np\n",
    "x=np.array([2,4,6,8,10,12,14,16,18,20])\n",
    "z=np.where(x%4==2)\n",
    "print(z)\n",
    "zz=np.where(x+6==10)\n",
    "print(zz)\n",
    "\n",
    "y=np.array([[2,4,6]\n",
    "           ,[3,6,9]])\n",
    "a=np.where((y%4==0))\n",
    "print(a)"
   ]
  },
  {
   "cell_type": "code",
   "execution_count": null,
   "id": "7724bb4a",
   "metadata": {},
   "outputs": [
    {
     "name": "stdout",
     "output_type": "stream",
     "text": [
      "3\n",
      "3\n"
     ]
    }
   ],
   "source": [
    "#### searchsorted\n",
    "\n",
    "x=np.array([2,4,6,8,10])\n",
    "y=np.searchsorted(x,7,side='right')\n",
    "print(y)\n",
    "z=np.array([1,2,3,5,3,5,2])\n",
    "print(np.searchsorted(z,4))"
   ]
  },
  {
   "cell_type": "code",
   "execution_count": 3,
   "id": "111a228f",
   "metadata": {},
   "outputs": [
    {
     "name": "stdout",
     "output_type": "stream",
     "text": [
      "3\n",
      "3\n",
      "5\n",
      "8\n"
     ]
    }
   ],
   "source": [
    "import numpy as np \n",
    "x=np.array([2,4,6,8,10])\n",
    "a=np.searchsorted(x,7)\n",
    "b=np.searchsorted(x,7,side='right')\n",
    "print(a)\n",
    "print(b)\n",
    "\n",
    "x=np.array([1,2,3,4,5,6,7,6,7])\n",
    "a=np.searchsorted(x,6)\n",
    "b=np.searchsorted(x,6,side='right')\n",
    "print(a)\n",
    "print(b)"
   ]
  },
  {
   "cell_type": "code",
   "execution_count": null,
   "id": "50dca264",
   "metadata": {},
   "outputs": [],
   "source": [
    "########### SORTING ARRAYS ##########\n",
    "import numpy as np\n",
    "x=np.array(['aaple','aaaple','aple'])\n",
    "y=np.array([[3,1,7,]\n",
    "            ,[2,9,1]])\n",
    "z=np.array([[[3,2,1],\n",
    "             [5,3,7]],\n",
    "             [[5,9,2],\n",
    "              [4,7,1]]])\n",
    "w=np.array([True,False,True])\n",
    "print(np.sort(x),\"\\n\\n\")      # sorting alphabetical\n",
    "print(np.sort(y),\"\\n\\n\")       # sorting numeric\n",
    "print(np.sort(z),\"\\n\\n\")       # sorting numeric\n",
    "print(np.sort(w),\"\\n\\n\")       ## sortng boolean"
   ]
  },
  {
   "cell_type": "code",
   "execution_count": null,
   "id": "0f58bf4a",
   "metadata": {},
   "outputs": [],
   "source": [
    "print(np.sort(z,axis=0))\n",
    "print(\"\\n\",np.sort(z,axis=1))\n",
    "print(\"\\n\", np.sort(z,axis=2))"
   ]
  },
  {
   "cell_type": "code",
   "execution_count": 18,
   "id": "efb25de7",
   "metadata": {},
   "outputs": [
    {
     "name": "stdout",
     "output_type": "stream",
     "text": [
      "[[1 0 2]\n",
      " [2 0 1]]\n"
     ]
    }
   ],
   "source": [
    "#### argsort\n",
    "print(np.argsort(y))"
   ]
  }
 ],
 "metadata": {
  "kernelspec": {
   "display_name": "base",
   "language": "python",
   "name": "python3"
  },
  "language_info": {
   "codemirror_mode": {
    "name": "ipython",
    "version": 3
   },
   "file_extension": ".py",
   "mimetype": "text/x-python",
   "name": "python",
   "nbconvert_exporter": "python",
   "pygments_lexer": "ipython3",
   "version": "3.12.7"
  }
 },
 "nbformat": 4,
 "nbformat_minor": 5
}
