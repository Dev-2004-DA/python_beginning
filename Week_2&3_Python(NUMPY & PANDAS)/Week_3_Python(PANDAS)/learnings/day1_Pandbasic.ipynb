{
 "cells": [
  {
   "cell_type": "code",
   "execution_count": null,
   "id": "3259ac29",
   "metadata": {},
   "outputs": [
    {
     "name": "stdout",
     "output_type": "stream",
     "text": [
      "0    1\n",
      "1    2\n",
      "2    3\n",
      "dtype: int64 \n",
      "\n",
      "1    1\n",
      "2    2\n",
      "3    3\n",
      "dtype: int64\n",
      "1\n",
      "2\n",
      "day1    23\n",
      "day2    33\n",
      "day3    43\n",
      "day4    13\n",
      "day5    22\n",
      "day6     3\n",
      "dtype: int64\n",
      "day4    13\n",
      "day2    33\n",
      "day3    43\n",
      "dtype: int64\n"
     ]
    }
   ],
   "source": [
    "import pandas as pd\n",
    "\n",
    "a=[1,2,3]\n",
    "b=pd.Series(a)\n",
    "# formating index\n",
    "c=pd.Series(index={1,2,3},data=a)\n",
    "print(b,\"\\n\")\n",
    "print(c)\n",
    "## accessing elements\n",
    "print(b[0])\n",
    "print(c[2])\n",
    "\n",
    "## creating a series from a dictionary ; KEY=label , VALUE= series\n",
    "x={'day1':23,'day2':33,'day3':43,'day4':13,'day5':22,'day6':3}\n",
    "print(pd.Series(x))\n",
    "print(pd.Series(x,index=['day4','day2','day3'])) ## printing partial series"
   ]
  },
  {
   "cell_type": "code",
   "execution_count": 28,
   "id": "b5a11939",
   "metadata": {},
   "outputs": [
    {
     "name": "stdout",
     "output_type": "stream",
     "text": [
      "   A  B  C\n",
      "0  1  2  3\n",
      "1  4  5  6\n",
      "   0  1\n",
      "0  1  2\n",
      "1  5  6\n",
      "2  3  4\n",
      "   calories  duration\n",
      "1       420        50\n",
      "2       380        40\n",
      "3       390        45\n"
     ]
    }
   ],
   "source": [
    "### DATA FRAME\n",
    "import numpy as np\n",
    "arr1 = np.array([[1, 2],[5,6], [3, 4]])                 ## using array\n",
    "arr2=[[1,2,3],[4,5,6]]                                  ## using list\n",
    "\n",
    "df = pd.DataFrame(arr)\n",
    "print(pd.DataFrame(arr2,columns=[\"A\",\"B\",\"C\"]))\n",
    "print(df)\n",
    "## using dict\n",
    "data = {\n",
    "  \"calories\": [420, 380, 390],\n",
    "  \"duration\": [50, 40, 45]\n",
    "}\n",
    "\n",
    "myvar = pd.DataFrame(data,index=[1,2,3])\n",
    "\n",
    "print(myvar)"
   ]
  }
 ],
 "metadata": {
  "kernelspec": {
   "display_name": "base",
   "language": "python",
   "name": "python3"
  },
  "language_info": {
   "codemirror_mode": {
    "name": "ipython",
    "version": 3
   },
   "file_extension": ".py",
   "mimetype": "text/x-python",
   "name": "python",
   "nbconvert_exporter": "python",
   "pygments_lexer": "ipython3",
   "version": "3.12.7"
  }
 },
 "nbformat": 4,
 "nbformat_minor": 5
}
