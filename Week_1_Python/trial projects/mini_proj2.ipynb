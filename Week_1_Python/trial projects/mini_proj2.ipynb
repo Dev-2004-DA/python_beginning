{
 "cells": [
  {
   "cell_type": "markdown",
   "id": "8a78f4b5",
   "metadata": {},
   "source": [
    "\n",
    "\n",
    " Mini Project Idea #2: Height Analysis Tool\n",
    "🎯 Problem Statement\n",
    "Create a Python program that:\n",
    "Accepts heights (in cm) of multiple people\n",
    "Calculates key statistics:\n",
    "Count, mean, median, mode\n",
    "Standard deviation, min, max\n",
    "Converts all heights to meters and inches\n",
    "Classifies each person into categories:\n",
    "< 150 cm → \"Short\"\n",
    "150–170 cm → \"Average\"\n",
    "> 170 cm → \"Tall\"\n",
    "Prints a summary report + classification list"
   ]
  },
  {
   "cell_type": "code",
   "execution_count": null,
   "id": "02982d21",
   "metadata": {},
   "outputs": [],
   "source": [
    "                                ### HEIGHT ANALYSIS TOOL ###\n",
    "import random as r , math as m , statistics as s\n"
   ]
  },
  {
   "cell_type": "code",
   "execution_count": 151,
   "id": "8a31e372",
   "metadata": {},
   "outputs": [
    {
     "name": "stdout",
     "output_type": "stream",
     "text": [
      "The Entered Dataset Is : [134.78, 145.98, 178.9, 165.9, 187.77, 156.89]\n"
     ]
    }
   ],
   "source": [
    "##Accepts heights (in cm) of multiple people\n",
    "print(\"welcome to the height analysis tool\".upper())\n",
    "while True:\n",
    "    try:\n",
    "        htcm=list(map(float,input(\"Enter the heights of individuals in c.m. seperated by spaces::  \").split()))\n",
    "        print(\"the entered dataset is :\".title(),htcm)\n",
    "        break\n",
    "    except Exception as e:\n",
    "        print(\"Error\",e)  \n",
    "         "
   ]
  },
  {
   "cell_type": "code",
   "execution_count": 153,
   "id": "7fbc5625",
   "metadata": {},
   "outputs": [],
   "source": [
    "###  Calculates key statistics: using function ####\n",
    "def key(a):\n",
    "    ct=len(a)\n",
    "    m=s.fmean(a)\n",
    "    md=s.median(a)\n",
    "    z=s.multimode(a)\n",
    "    sd=s.stdev(a)\n",
    "    minima=min(a)\n",
    "    maxima=max(a)\n",
    "    print(f\"numbers of individuals:                                  {ct}\".title())\n",
    "    print(f\"mean:                                                    {m:.2f}\".title())\n",
    "    print(f\"median:                                                  {md:.2f}\".title())\n",
    " \n",
    "    ## using conditionals to find whether mode exists or not \n",
    "    if(len(z)==1):\n",
    "        print(f\"mode:                                                    {z}\".title())    \n",
    "    elif(len(z)==len(a)):\n",
    "        print(f\"mode:                                                     no mode\".title())\n",
    "    else:\n",
    "        print(f\"mode:                                                    {z}\".title())\n",
    "    ####\n",
    "    \n",
    "    print(f\"standard deviation:                                      {sd:.2f}\".title())\n",
    "    print(f\"minimum height:                                          {minima}\".title())\n",
    "    print(f\"maximum height:                                          {maxima}\".title())"
   ]
  },
  {
   "cell_type": "code",
   "execution_count": 154,
   "id": "3d873869",
   "metadata": {},
   "outputs": [],
   "source": [
    "##Converts all heights to meters and inches\n",
    "\n",
    "## USING LIST COMPREHENSION\n",
    "# list of heightss in meter\n",
    "htm=[item/100.0 for item in htcm]\n",
    "# list of height in inches\n",
    "htin=[item*0.393 for item in htcm]\n"
   ]
  },
  {
   "cell_type": "code",
   "execution_count": 155,
   "id": "69b4b87a",
   "metadata": {},
   "outputs": [],
   "source": [
    "## Classifies each person into categories:\n",
    "#< 150 cm → \"Short\"\n",
    "#150–170 cm → \"Average\"\n",
    "#> 170 cm → \"Tall\"\n",
    "# creating three empty lists\n",
    "short=[]\n",
    "average=[]\n",
    "tall=[]\n",
    "for item in htcm:\n",
    "    if (item<150):\n",
    "        short.append(item)                           ## adding individuals with height less than 150 in empty list short\n",
    "    elif (item>=150 and item<170):\n",
    "        average.append(item)                         ## adding individuals with height between 150 & 170 in empty list short   \n",
    "    else:\n",
    "        tall.append(item)                            ## adding individuals with height greater than 170 in empty list short   \n",
    "    "
   ]
  },
  {
   "cell_type": "code",
   "execution_count": 156,
   "id": "7c517607",
   "metadata": {},
   "outputs": [
    {
     "name": "stdout",
     "output_type": "stream",
     "text": [
      "                  ---------HEIGHTS ANALYSIS---------                  \n",
      "Numbers Of Individuals:                                  6\n",
      "Mean:                                                    161.70\n",
      "Median:                                                  161.39\n",
      "Mode:                                                     No Mode\n",
      "Standard Deviation:                                      19.94\n",
      "Minimum Height:                                          134.78\n",
      "Maximum Height:                                          187.77\n",
      "Short:                                                   2\n",
      "Average:                                                 2\n",
      "Tall:                                                    2\n",
      "___________________________________________________________________\n",
      "\n",
      "NOTE---'SHORT' is defined as set of individuals with height less than 150 c.m.\n",
      "       'AVERAGE' os defined as the set of individuals with height between 150 annd 170 c.m.\n",
      "       'TALL' is defined as the set of individuals with height greater than 170 c.m.\n",
      "\n",
      "\n",
      " --------CONVERSION OF HEIGHTS IN METERS AND INCHES--------\n",
      "ht. in c.m.     |  ht. in meters    |    ht. in inches\n",
      "  134.78        |      1.35         |        52.97\n",
      "  145.98        |      1.46         |        57.37\n",
      "  178.90        |      1.79         |        70.31\n",
      "  165.90        |      1.66         |        65.20\n",
      "  187.77        |      1.88         |        73.79\n",
      "  156.89        |      1.57         |        61.66\n",
      "\n",
      "\n",
      "\n",
      "From The Data Of 6 Individuals Given By The User , This Height Analysis Tool Analyses \n",
      "That The Average Height Of The Individual Is 161.70 C.M. \n",
      "With Median Height 161.39 C.M.\n",
      "The Standard Deviation Of Heights From The Mean Is 19.94 C.M. .\n",
      "From This Data It Has Bbeen Also Found That The Tallest Individual From This Data Has Height 187.77 C.M. \n",
      "And The Shortest Individual Has Height 134.78 C.M. \n"
     ]
    }
   ],
   "source": [
    "## RESULT \n",
    "print(\"---------heights analysis---------\".upper().center(70))\n",
    "key(htcm)\n",
    "print(\"short:                                                  \".title(),len(short))\n",
    "print(\"average:                                                \".title(),len(average))\n",
    "print(\"tall:                                                   \".title(),len(tall))\n",
    "print(\"___________________________________________________________________\\n\")\n",
    "print(\"NOTE---'SHORT' is defined as set of individuals with height less than 150 c.m.\\n       'AVERAGE' os defined as the set of individuals with height between 150 annd 170 c.m.\\n       'TALL' is defined as the set of individuals with height greater than 170 c.m.\")\n",
    "\n",
    "### creating table of height\n",
    "print(\"\\n\\n --------conversion of heights in meters and inches--------\".upper())\n",
    "print(\"ht. in c.m.     |  ht. in meters    |    ht. in inches\")\n",
    "for item in htcm:                                                                               # loop will create table for height conversion\n",
    "    print(f\"  {item:.2f}        |      {item/100:.2f}         |        {item*0.393:.2f}\")\n",
    "\n",
    "\n",
    "### summary of the analysis ###\n",
    "print(f\"\\n\\n\\nFrom the data of {len(htcm)} individuals given by the user , this height analysis tool analyses \\nthat the average height of the individual is {s.fmean(htcm):.2f} c.m. \\nwith median height {s.median(htcm):.2f} c.m.\\nthe standard deviation of heights from the mean is {s.stdev(htcm):.2f} c.m. .\\nfrom this data it has bbeen also found that the tallest individual from this data has height {max(htcm)} c.m. \\nand the shortest individual has height {min(htcm)} c.m. \".title())"
   ]
  }
 ],
 "metadata": {
  "kernelspec": {
   "display_name": "base",
   "language": "python",
   "name": "python3"
  },
  "language_info": {
   "codemirror_mode": {
    "name": "ipython",
    "version": 3
   },
   "file_extension": ".py",
   "mimetype": "text/x-python",
   "name": "python",
   "nbconvert_exporter": "python",
   "pygments_lexer": "ipython3",
   "version": "3.12.7"
  }
 },
 "nbformat": 4,
 "nbformat_minor": 5
}
