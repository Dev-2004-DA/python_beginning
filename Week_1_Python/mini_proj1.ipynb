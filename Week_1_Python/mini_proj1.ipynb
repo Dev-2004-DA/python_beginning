{
 "cells": [
  {
   "cell_type": "markdown",
   "id": "7b70891b",
   "metadata": {},
   "source": [
    "'''Write a Python script that:\n",
    "Accepts from the user a sequence of numbers (e.g., comma-separated floats or integers)\n",
    "Parses these into a Python list of numbers\n",
    "Calculates using the statistics and math modules:\n",
    "Count of values\n",
    "Mean\n",
    "Median\n",
    "Mode(s) (if multiple modes, list them; if no unique mode, indicate “no unique mode”)\n",
    "Population variance and sample variance\n",
    "Population standard deviation and sample standard deviation\n",
    "Minimum and maximum\n",
    "Range (max − min)\n",
    "Quartiles (25th, 50th, 75th percentiles) manually using sorting + index logic or using statistics.median on slices\n",
    "IQR = Q3 − Q1\n",
    "Optionally: identify “mild outliers” via 1.5·IQR rule: any value < Q1 − 1.5·IQR or > Q3 + 1.5·IQ\n",
    "Prints a summary report in a readable format.\n",
    "Uses functions to structure the code (e.g., a function to parse input, functions for each metric group).\n",
    "Handles invalid inputs gracefully (e.g., non-numeric entries): skip or ask again.\n",
    "(Optional) After printing the summary, allow the user to enter another dataset or exit.'''"
   ]
  },
  {
   "cell_type": "code",
   "execution_count": 160,
   "id": "3dadd17d",
   "metadata": {},
   "outputs": [
    {
     "name": "stdout",
     "output_type": "stream",
     "text": [
      "Error  could not convert string to float: 'j'\n",
      "Entered data is=  [23.0, 45.0, 1.0, 2.0, 3.0, 9.0, 0.0, 1.0, 89.0, 10.0, 1.0, 101.0, 183.0]\n"
     ]
    }
   ],
   "source": [
    "#Accepts from the user a sequence of numbers (e.g., comma-separated floats or integers).\n",
    "\n",
    "try:\n",
    "    data=list(map(float,input(\"Enter your data with space between each data points=\").split()))\n",
    "    print(\"Entered data is= \",data)\n",
    "except ValueError as  v:\n",
    "    print(\"Error \",v)    \n",
    "    data=list(map(float,input(\"Enter data again with space between each data points=\").split()))\n",
    "    print(\"Entered data is= \",data)\n",
    "except ValueError as  v:\n",
    "    print(\"Error \",v)    \n",
    "    data=list(map(float,input(\"Enter data again with space between each data points=\").split()))\n",
    "    print(\"Entered data is= \",data)\n",
    "except ValueError as  v:\n",
    "    print(\"Error \",v)    \n",
    "    data=list(map(float,input(\"Enter data again with space between each data points=\").split()))\n",
    "    print(\"Entered data is= \",data)    \n",
    "            "
   ]
  },
  {
   "cell_type": "code",
   "execution_count": 161,
   "id": "0c7846ac",
   "metadata": {},
   "outputs": [],
   "source": [
    "import math as m,statistics as st\n",
    "##ABOUT DATA##\n",
    "def about(k):\n",
    "    count=len(k)\n",
    "    print(\"NO OF ELEMENTS IN DATA SET IS :\",count)\n",
    "    if(count%2==0):\n",
    "        print(\"DATA HAS EVEN NO OF ELEMENTS\")\n",
    "    else:\n",
    "        print(\"DATA HAS ODD NO OF ELEMENTS\")    \n"
   ]
  },
  {
   "cell_type": "code",
   "execution_count": null,
   "id": "90088e45",
   "metadata": {},
   "outputs": [],
   "source": []
  },
  {
   "cell_type": "code",
   "execution_count": 162,
   "id": "387563a9",
   "metadata": {},
   "outputs": [],
   "source": [
    "\n",
    "#MEASURE OF CENTRAL TENDANCIES\n",
    "def MOCT(a):\n",
    "    mean=st.fmean(a)\n",
    "    median=st.median(a)\n",
    "    modes=st.multimode(a)\n",
    "    print(\"mean:                                  \".upper(),mean)\n",
    "    print(\"MEDIAN:                                \",median)\n",
    "    if len(modes)==1:\n",
    "         print(\"unique mode:                           \".upper(),modes)\n",
    "    else:\n",
    "         print(\"Multiple mode:                         \".upper(),modes)\n"
   ]
  },
  {
   "cell_type": "code",
   "execution_count": 163,
   "id": "a90f79c3",
   "metadata": {},
   "outputs": [],
   "source": [
    "#MEASURE OF DISPERSION\n",
    "def MOD(b):\n",
    "    Var=st.pvariance(b)\n",
    "    var=st.variance(b)\n",
    "    SD=st.pstdev(b)\n",
    "    sd=st.stdev(b)\n",
    "    print(f\"population variance:                    {Var:.2f}\".upper())\n",
    "    print(f\"sample variance:                        {var:.2f}\".upper())\n",
    "    print(f\"population standard deviation:          {SD:.2f}\".upper())\n",
    "    print(f\"sample standard deviation:              {sd:.2f}\".upper())"
   ]
  },
  {
   "cell_type": "code",
   "execution_count": 168,
   "id": "3602e7b5",
   "metadata": {},
   "outputs": [],
   "source": [
    "#MEASURES of Range\n",
    "minima=min(data)\n",
    "maxima=max(data)\n",
    "range=maxima-minima \n",
    "\n",
    "#MEASURE OF POSITION\n",
    "\n",
    "Q=st.quantiles(data,n=4)\n",
    "iqr=Q[2]-Q[0]                                       # q1=Q[0], q3=Q[2] , due to indexing starts form 0 \n"
   ]
  },
  {
   "cell_type": "code",
   "execution_count": 167,
   "id": "836b2a9d",
   "metadata": {},
   "outputs": [],
   "source": [
    "#MILD OUTLIARS\n",
    "outliars=[]                                             # creating a empty list of outliars  \n",
    "for item in data:\n",
    "    if((item<Q[0]-1.5*iqr)or (item>Q[2]+1.5*iqr)):\n",
    "        outliars.append(item)                           # adding element in the list outliar                                                 \n",
    "\n",
    "\n",
    "           "
   ]
  },
  {
   "cell_type": "code",
   "execution_count": 166,
   "id": "93dddc38",
   "metadata": {},
   "outputs": [
    {
     "name": "stdout",
     "output_type": "stream",
     "text": [
      "-----For The Given Data The Following Statistics Are Calculated And Are Listed Below----\n",
      "\n",
      "ABOUT THE DATA ,  [23.0, 45.0, 1.0, 2.0, 3.0, 9.0, 0.0, 1.0, 89.0, 10.0, 1.0, 101.0, 183.0]\n",
      "NO OF ELEMENTS IN DATA SET IS : 13\n",
      "DATA HAS ODD NO OF ELEMENTS\n",
      "                 \n",
      "SECTION-1 \"__MEASURE OF CENTRAL TENDANCIES__\"                 \n",
      "\n",
      "MEAN:                                   36.0\n",
      "MEDIAN:                                 9.0\n",
      "UNIQUE MODE:                            [1.0]\n",
      "                     \n",
      "SECTION-2 \"__MEASURE OF DISPERSION__\"                     \n",
      "\n",
      "POPULATION VARIANCE:                    2885.69\n",
      "SAMPLE VARIANCE:                        3126.17\n",
      "POPULATION STANDARD DEVIATION:          53.72\n",
      "SAMPLE STANDARD DEVIATION:              55.91\n",
      "                       \n",
      "SECTION-3 \"__MEASURE OF RANGE __\"                       \n",
      "\n",
      "MAXIMUM VALUE OF THE DATA SET:          183.0\n",
      "MINIMUM VALUE OF THE DATA SET:          0.0\n",
      "RANGE OF THE DATA SET:                  183.0\n",
      "                      \n",
      "SECTION-4 \"__MEASURE OF POSITION__\"                      \n",
      "\n",
      "QUARTILE 1:                             1.0\n",
      "QUARTILE 2:                             9.0\n",
      "QUARTILE 3:                             67.0\n",
      "INTER QUARTILE RANGE:                   66.0\n",
      "OUTLIARS:                             [183.0]\n"
     ]
    }
   ],
   "source": [
    "print(\"-----for the given data the following statistics are calculated and are listed below----\".title(),end=\"\\n\\n\")\n",
    "print(\"ABOUT THE DATA , \",data)\n",
    "about(data)\n",
    "\n",
    "print(\"\\n\"'SECTION-1 \"__measure of central tendancies__\"'.upper().center(80),end=\"\\n\\n\")\n",
    "MOCT(data)                                              #calling fnc\n",
    "print(\"\\n\"'SECTION-2 \"__measure of dispersion__\"'.upper().center(80),end=\"\\n\\n\")\n",
    "MOD(data)                                                #calling fnc\n",
    "print(\"\\n\"'SECTION-3 \"__measure of range __\"'.upper().center(80),end=\"\\n\\n\")\n",
    "print(\"MAXIMUM VALUE OF THE DATA SET:         \",maxima)\n",
    "print(\"MINIMUM VALUE OF THE DATA SET:         \",minima)\n",
    "print(\"RANGE OF THE DATA SET:                 \",range) \n",
    "print(\"\\n\"'SECTION-4 \"__measure of position__\"'.upper().center(80),end=\"\\n\\n\")\n",
    "print(\"QUARTILE 1:                            \",Q[0])\n",
    "print(\"QUARTILE 2:                            \",Q[1]) \n",
    "print(\"QUARTILE 3:                            \",Q[2])\n",
    "print(\"INTER QUARTILE RANGE:                  \",iqr)          \n",
    "if(len(outliars)==0):\n",
    "    print(\"NO OUTLIARS\")\n",
    "else:\n",
    "    print(\"OUTLIARS:                            \",outliars)"
   ]
  },
  {
   "cell_type": "markdown",
   "id": "0f7b3b33",
   "metadata": {},
   "source": []
  },
  {
   "cell_type": "code",
   "execution_count": null,
   "id": "d099e8fb",
   "metadata": {},
   "outputs": [],
   "source": []
  }
 ],
 "metadata": {
  "kernelspec": {
   "display_name": "base",
   "language": "python",
   "name": "python3"
  },
  "language_info": {
   "codemirror_mode": {
    "name": "ipython",
    "version": 3
   },
   "file_extension": ".py",
   "mimetype": "text/x-python",
   "name": "python",
   "nbconvert_exporter": "python",
   "pygments_lexer": "ipython3",
   "version": "3.12.7"
  }
 },
 "nbformat": 4,
 "nbformat_minor": 5
}
