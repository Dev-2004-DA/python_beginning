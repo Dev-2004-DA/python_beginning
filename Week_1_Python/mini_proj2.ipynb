{
 "cells": [
  {
   "cell_type": "markdown",
   "id": "8a78f4b5",
   "metadata": {},
   "source": [
    "\n",
    "\n",
    " Mini Project Idea #2: Height Analysis Tool\n",
    "🎯 Problem Statement\n",
    "Create a Python program that:\n",
    "Accepts heights (in cm) of multiple people\n",
    "Calculates key statistics:\n",
    "Count, mean, median, mode\n",
    "Standard deviation, min, max\n",
    "Converts all heights to meters and inches\n",
    "Classifies each person into categories:\n",
    "< 150 cm → \"Short\"\n",
    "150–170 cm → \"Average\"\n",
    "> 170 cm → \"Tall\"\n",
    "Prints a summary report + classification list"
   ]
  },
  {
   "cell_type": "code",
   "execution_count": 145,
   "id": "02982d21",
   "metadata": {},
   "outputs": [],
   "source": [
    "                                ### HEIGHT ANALYSIS TOOL ###\n",
    "import random as r , math as m , statistics as s\n"
   ]
  },
  {
   "cell_type": "code",
   "execution_count": 146,
   "id": "8a31e372",
   "metadata": {},
   "outputs": [
    {
     "name": "stdout",
     "output_type": "stream",
     "text": [
      "WELCOME TO THE HEIGHT ANALYSIS TOOL\n"
     ]
    }
   ],
   "source": [
    "##Accepts heights (in cm) of multiple people\n",
    "print(\"welcome to the height analysis tool\".upper())\n",
    "while True:\n",
    "    try:\n",
    "        htcm=list(map(float,input(\"Enter the heights of individuals in c.m. seperated by spaces::  \").split()))\n",
    "        break\n",
    "    except Exception as e:\n",
    "        print(\"Error\",e)  \n",
    "         "
   ]
  },
  {
   "cell_type": "code",
   "execution_count": 147,
   "id": "7fbc5625",
   "metadata": {},
   "outputs": [],
   "source": [
    "###  Calculates key statistics: using function ####\n",
    "def key(a):\n",
    "    ct=len(a)\n",
    "    m=s.fmean(a)\n",
    "    md=s.median(a)\n",
    "    z=s.multimode(a)\n",
    "    sd=s.stdev(a)\n",
    "    minima=min(a)\n",
    "    maxima=max(a)\n",
    "    print(f\"numbers of individuals:                                  {ct}\".title())\n",
    "    print(f\"mean:                                                    {m:.2f}\".title())\n",
    "    print(f\"median:                                                  {md:.2f}\".title())\n",
    " \n",
    "    ## using conditionals to find whether mode exists or not \n",
    "    if(len(z)==1):\n",
    "        print(f\"mode:                                                    {z}\".title())    \n",
    "    elif(len(z)==len(a)):\n",
    "        print(f\"mode:                                                     no mode\".title())\n",
    "    else:\n",
    "        print(f\"mode:                                                    {z}\".title())\n",
    "    ####\n",
    "    \n",
    "    print(f\"standard deviation:                                      {sd:.2f}\".title())\n",
    "    print(f\"minimum height:                                          {minima}\".title())\n",
    "    print(f\"maximum height:                                          {maxima}\".title())"
   ]
  },
  {
   "cell_type": "code",
   "execution_count": 148,
   "id": "3d873869",
   "metadata": {},
   "outputs": [],
   "source": [
    "##Converts all heights to meters and inches\n",
    "\n",
    "## USING LIST COMPREHENSION\n",
    "# list of heightss in meter\n",
    "htm=[item/100.0 for item in htcm]\n",
    "# list of height in inches\n",
    "htin=[item*0.393 for item in htcm]\n"
   ]
  },
  {
   "cell_type": "code",
   "execution_count": 149,
   "id": "69b4b87a",
   "metadata": {},
   "outputs": [],
   "source": [
    "## Classifies each person into categories:\n",
    "#< 150 cm → \"Short\"\n",
    "#150–170 cm → \"Average\"\n",
    "#> 170 cm → \"Tall\"\n",
    "# creating three empty lists\n",
    "short=[]\n",
    "average=[]\n",
    "tall=[]\n",
    "for item in htcm:\n",
    "    if (item<150):\n",
    "        short.append(item)                           ## adding individuals with height less than 150 in empty list short\n",
    "    elif (item>=150 and item<170):\n",
    "        average.append(item)                         ## adding individuals with height between 150 & 170 in empty list short   \n",
    "    else:\n",
    "        tall.append(item)                            ## adding individuals with height greater than 170 in empty list short   \n",
    "    "
   ]
  },
  {
   "cell_type": "code",
   "execution_count": 150,
   "id": "7c517607",
   "metadata": {},
   "outputs": [
    {
     "name": "stdout",
     "output_type": "stream",
     "text": [
      "                  ---------HEIGHTS ANALYSIS---------                  \n",
      "Numbers Of Individuals:                                  4\n",
      "Mean:                                                    166.50\n",
      "Median:                                                  166.50\n",
      "Mode:                                                    [111.0, 222.0]\n",
      "Standard Deviation:                                      64.09\n",
      "Minimum Height:                                          111.0\n",
      "Maximum Height:                                          222.0\n",
      "Short:                                                   2\n",
      "Average:                                                 0\n",
      "Tall:                                                    2\n",
      "___________________________________________________________________\n",
      "\n",
      "NOTE---'SHORT' is defined as set of individuals with height less than 150 c.m.\n",
      "       'AVERAGE' os defined as the set of individuals with height between 150 annd 170 c.m.\n",
      "       'TALL' is defined as the set of individuals with height greater than 170 c.m.\n",
      "\n",
      "\n",
      " --------CONVERSION OF HEIGHTS IN METERS AND INCHES--------\n",
      "ht. in c.m.     |  ht. in meters    |    ht. in inches\n",
      "  111.00        |      1.11         |        43.62\n",
      "  222.00        |      2.22         |        87.25\n",
      "  111.00        |      1.11         |        43.62\n",
      "  222.00        |      2.22         |        87.25\n",
      "\n",
      "\n",
      "\n",
      "From The Data Of 4 Individuals Given By The User , This Height Analysis Tool Analyses \n",
      "That The Average Height Of The Individual Is 166.50 C.M. \n",
      "With Median Height 166.50 C.M.\n",
      "The Standard Deviation Of Heights From The Mean Is 64.09 C.M. .\n",
      "From This Data It Has Bbeen Also Found That The Tallest Individual From This Data Has Height 222.0 C.M. \n",
      "And The Shortest Individual Has Height 111.0 C.M. \n"
     ]
    }
   ],
   "source": [
    "## RESULT \n",
    "print(\"---------heights analysis---------\".upper().center(70))\n",
    "key(htcm)\n",
    "print(\"short:                                                  \".title(),len(short))\n",
    "print(\"average:                                                \".title(),len(average))\n",
    "print(\"tall:                                                   \".title(),len(tall))\n",
    "print(\"___________________________________________________________________\\n\")\n",
    "print(\"NOTE---'SHORT' is defined as set of individuals with height less than 150 c.m.\\n       'AVERAGE' os defined as the set of individuals with height between 150 annd 170 c.m.\\n       'TALL' is defined as the set of individuals with height greater than 170 c.m.\")\n",
    "\n",
    "### creating table of height\n",
    "print(\"\\n\\n --------conversion of heights in meters and inches--------\".upper())\n",
    "print(\"ht. in c.m.     |  ht. in meters    |    ht. in inches\")\n",
    "for item in htcm:                                                                               # loop will create table for height conversion\n",
    "    print(f\"  {item:.2f}        |      {item/100:.2f}         |        {item*0.393:.2f}\")\n",
    "\n",
    "\n",
    "### summary of the analysis ###\n",
    "print(f\"\\n\\n\\nFrom the data of {len(htcm)} individuals given by the user , this height analysis tool analyses \\nthat the average height of the individual is {s.fmean(htcm):.2f} c.m. \\nwith median height {s.median(htcm):.2f} c.m.\\nthe standard deviation of heights from the mean is {s.stdev(htcm):.2f} c.m. .\\nfrom this data it has bbeen also found that the tallest individual from this data has height {max(htcm)} c.m. \\nand the shortest individual has height {min(htcm)} c.m. \".title())"
   ]
  }
 ],
 "metadata": {
  "kernelspec": {
   "display_name": "base",
   "language": "python",
   "name": "python3"
  },
  "language_info": {
   "codemirror_mode": {
    "name": "ipython",
    "version": 3
   },
   "file_extension": ".py",
   "mimetype": "text/x-python",
   "name": "python",
   "nbconvert_exporter": "python",
   "pygments_lexer": "ipython3",
   "version": "3.12.7"
  }
 },
 "nbformat": 4,
 "nbformat_minor": 5
}
